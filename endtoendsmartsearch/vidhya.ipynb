{
 "cells": [
  {
   "cell_type": "code",
   "execution_count": 1,
   "metadata": {},
   "outputs": [],
   "source": [
    "from tqdm import tqdm, trange  # Use this for scripts outside notebooks\n"
   ]
  },
  {
   "cell_type": "code",
   "execution_count": 2,
   "metadata": {},
   "outputs": [
    {
     "data": {
      "text/html": [
       "<div>\n",
       "<style scoped>\n",
       "    .dataframe tbody tr th:only-of-type {\n",
       "        vertical-align: middle;\n",
       "    }\n",
       "\n",
       "    .dataframe tbody tr th {\n",
       "        vertical-align: top;\n",
       "    }\n",
       "\n",
       "    .dataframe thead th {\n",
       "        text-align: right;\n",
       "    }\n",
       "</style>\n",
       "<table border=\"1\" class=\"dataframe\">\n",
       "  <thead>\n",
       "    <tr style=\"text-align: right;\">\n",
       "      <th></th>\n",
       "      <th>course-card href</th>\n",
       "      <th>course-card__body</th>\n",
       "      <th>course-card__body 2</th>\n",
       "      <th>course-card__lesson-count</th>\n",
       "      <th>course-card__price</th>\n",
       "      <th>review__stars-count</th>\n",
       "    </tr>\n",
       "  </thead>\n",
       "  <tbody>\n",
       "    <tr>\n",
       "      <th>0</th>\n",
       "      <td>https://courses.analyticsvidhya.com/courses/ge...</td>\n",
       "      <td>All Courses</td>\n",
       "      <td>GenAI Applied to Quantitative Finance: For Con...</td>\n",
       "      <td>5 Lessons</td>\n",
       "      <td>Free</td>\n",
       "      <td>NaN</td>\n",
       "    </tr>\n",
       "    <tr>\n",
       "      <th>1</th>\n",
       "      <td>https://courses.analyticsvidhya.com/courses/na...</td>\n",
       "      <td>All Courses</td>\n",
       "      <td>Navigating LLM Tradeoffs: Techniques for Speed...</td>\n",
       "      <td>6 Lessons</td>\n",
       "      <td>Free</td>\n",
       "      <td>NaN</td>\n",
       "    </tr>\n",
       "    <tr>\n",
       "      <th>2</th>\n",
       "      <td>https://courses.analyticsvidhya.com/courses/cr...</td>\n",
       "      <td>All Courses, \\n        \\n      \\n        \\n   ...</td>\n",
       "      <td>Creating Problem-Solving Agents using GenAI fo...</td>\n",
       "      <td>6 Lessons</td>\n",
       "      <td>Free</td>\n",
       "      <td>NaN</td>\n",
       "    </tr>\n",
       "    <tr>\n",
       "      <th>3</th>\n",
       "      <td>https://courses.analyticsvidhya.com/courses/im...</td>\n",
       "      <td>All Courses, \\n        \\n      \\n        \\n   ...</td>\n",
       "      <td>Improving Real World RAG Systems: Key Challeng...</td>\n",
       "      <td>12 Lessons</td>\n",
       "      <td>Free</td>\n",
       "      <td>NaN</td>\n",
       "    </tr>\n",
       "    <tr>\n",
       "      <th>4</th>\n",
       "      <td>https://courses.analyticsvidhya.com/courses/ch...</td>\n",
       "      <td>All Courses, \\n        \\n      \\n        \\n   ...</td>\n",
       "      <td>Framework to Choose the Right LLM for your Bus...</td>\n",
       "      <td>6 Lessons</td>\n",
       "      <td>Free</td>\n",
       "      <td>NaN</td>\n",
       "    </tr>\n",
       "  </tbody>\n",
       "</table>\n",
       "</div>"
      ],
      "text/plain": [
       "                                    course-card href  \\\n",
       "0  https://courses.analyticsvidhya.com/courses/ge...   \n",
       "1  https://courses.analyticsvidhya.com/courses/na...   \n",
       "2  https://courses.analyticsvidhya.com/courses/cr...   \n",
       "3  https://courses.analyticsvidhya.com/courses/im...   \n",
       "4  https://courses.analyticsvidhya.com/courses/ch...   \n",
       "\n",
       "                                   course-card__body  \\\n",
       "0                                        All Courses   \n",
       "1                                        All Courses   \n",
       "2  All Courses, \\n        \\n      \\n        \\n   ...   \n",
       "3  All Courses, \\n        \\n      \\n        \\n   ...   \n",
       "4  All Courses, \\n        \\n      \\n        \\n   ...   \n",
       "\n",
       "                                 course-card__body 2  \\\n",
       "0  GenAI Applied to Quantitative Finance: For Con...   \n",
       "1  Navigating LLM Tradeoffs: Techniques for Speed...   \n",
       "2  Creating Problem-Solving Agents using GenAI fo...   \n",
       "3  Improving Real World RAG Systems: Key Challeng...   \n",
       "4  Framework to Choose the Right LLM for your Bus...   \n",
       "\n",
       "  course-card__lesson-count course-card__price  review__stars-count  \n",
       "0                 5 Lessons               Free                  NaN  \n",
       "1                 6 Lessons               Free                  NaN  \n",
       "2                 6 Lessons               Free                  NaN  \n",
       "3                12 Lessons               Free                  NaN  \n",
       "4                 6 Lessons               Free                  NaN  "
      ]
     },
     "execution_count": 2,
     "metadata": {},
     "output_type": "execute_result"
    }
   ],
   "source": [
    "import pandas as pd\n",
    "file_path = 'D:\\vidhya\\vidhya.csv'\n",
    "df = pd.read_csv('vidhya.csv')\n",
    "df.head()"
   ]
  },
  {
   "cell_type": "code",
   "execution_count": 3,
   "metadata": {},
   "outputs": [
    {
     "data": {
      "text/html": [
       "<div>\n",
       "<style scoped>\n",
       "    .dataframe tbody tr th:only-of-type {\n",
       "        vertical-align: middle;\n",
       "    }\n",
       "\n",
       "    .dataframe tbody tr th {\n",
       "        vertical-align: top;\n",
       "    }\n",
       "\n",
       "    .dataframe thead th {\n",
       "        text-align: right;\n",
       "    }\n",
       "</style>\n",
       "<table border=\"1\" class=\"dataframe\">\n",
       "  <thead>\n",
       "    <tr style=\"text-align: right;\">\n",
       "      <th></th>\n",
       "      <th>course_link</th>\n",
       "      <th>course_title</th>\n",
       "      <th>lessons_count</th>\n",
       "      <th>price</th>\n",
       "    </tr>\n",
       "  </thead>\n",
       "  <tbody>\n",
       "    <tr>\n",
       "      <th>0</th>\n",
       "      <td>https://courses.analyticsvidhya.com/courses/ge...</td>\n",
       "      <td>GenAI Applied to Quantitative Finance: For Con...</td>\n",
       "      <td>5 Lessons</td>\n",
       "      <td>Free</td>\n",
       "    </tr>\n",
       "    <tr>\n",
       "      <th>1</th>\n",
       "      <td>https://courses.analyticsvidhya.com/courses/na...</td>\n",
       "      <td>Navigating LLM Tradeoffs: Techniques for Speed...</td>\n",
       "      <td>6 Lessons</td>\n",
       "      <td>Free</td>\n",
       "    </tr>\n",
       "    <tr>\n",
       "      <th>2</th>\n",
       "      <td>https://courses.analyticsvidhya.com/courses/cr...</td>\n",
       "      <td>Creating Problem-Solving Agents using GenAI fo...</td>\n",
       "      <td>6 Lessons</td>\n",
       "      <td>Free</td>\n",
       "    </tr>\n",
       "    <tr>\n",
       "      <th>3</th>\n",
       "      <td>https://courses.analyticsvidhya.com/courses/im...</td>\n",
       "      <td>Improving Real World RAG Systems: Key Challeng...</td>\n",
       "      <td>12 Lessons</td>\n",
       "      <td>Free</td>\n",
       "    </tr>\n",
       "    <tr>\n",
       "      <th>4</th>\n",
       "      <td>https://courses.analyticsvidhya.com/courses/ch...</td>\n",
       "      <td>Framework to Choose the Right LLM for your Bus...</td>\n",
       "      <td>6 Lessons</td>\n",
       "      <td>Free</td>\n",
       "    </tr>\n",
       "  </tbody>\n",
       "</table>\n",
       "</div>"
      ],
      "text/plain": [
       "                                         course_link  \\\n",
       "0  https://courses.analyticsvidhya.com/courses/ge...   \n",
       "1  https://courses.analyticsvidhya.com/courses/na...   \n",
       "2  https://courses.analyticsvidhya.com/courses/cr...   \n",
       "3  https://courses.analyticsvidhya.com/courses/im...   \n",
       "4  https://courses.analyticsvidhya.com/courses/ch...   \n",
       "\n",
       "                                        course_title lessons_count price  \n",
       "0  GenAI Applied to Quantitative Finance: For Con...     5 Lessons  Free  \n",
       "1  Navigating LLM Tradeoffs: Techniques for Speed...     6 Lessons  Free  \n",
       "2  Creating Problem-Solving Agents using GenAI fo...     6 Lessons  Free  \n",
       "3  Improving Real World RAG Systems: Key Challeng...    12 Lessons  Free  \n",
       "4  Framework to Choose the Right LLM for your Bus...     6 Lessons  Free  "
      ]
     },
     "execution_count": 3,
     "metadata": {},
     "output_type": "execute_result"
    }
   ],
   "source": [
    "# Clean and prepare the dataset by extracting course titles, descriptions, and links\n",
    "# Removing unnecessary spaces and line breaks from course-card__body 2 for better readability\n",
    "df_clean = pd.DataFrame({\n",
    "    'course_link': df['course-card href'],\n",
    "    'course_title': df['course-card__body 2'].str.strip(),\n",
    "    'lessons_count': df['course-card__lesson-count'].str.strip(),\n",
    "    'price': df['course-card__price'].str.strip()\n",
    "})\n",
    "\n",
    "# Remove any unwanted characters from course titles\n",
    "df_clean['course_title'] = df_clean['course_title'].str.replace(r'\\n\\s+', '', regex=True).str.strip()\n",
    "\n",
    "# Display cleaned dataset\n",
    "df_clean.head()\n"
   ]
  },
  {
   "cell_type": "code",
   "execution_count": 4,
   "metadata": {},
   "outputs": [
    {
     "name": "stderr",
     "output_type": "stream",
     "text": [
      "c:\\Users\\ABHISHEK\\anaconda3\\Lib\\site-packages\\sentence_transformers\\cross_encoder\\CrossEncoder.py:13: TqdmExperimentalWarning: Using `tqdm.autonotebook.tqdm` in notebook mode. Use `tqdm.tqdm` instead to force console mode (e.g. in jupyter console)\n",
      "  from tqdm.autonotebook import tqdm, trange\n"
     ]
    },
    {
     "name": "stdout",
     "output_type": "stream",
     "text": [
      "WARNING:tensorflow:From c:\\Users\\ABHISHEK\\anaconda3\\Lib\\site-packages\\tf_keras\\src\\losses.py:2976: The name tf.losses.sparse_softmax_cross_entropy is deprecated. Please use tf.compat.v1.losses.sparse_softmax_cross_entropy instead.\n",
      "\n"
     ]
    },
    {
     "data": {
      "application/vnd.jupyter.widget-view+json": {
       "model_id": "05e76f4c9ba44e91a86bdc0d76e6b004",
       "version_major": 2,
       "version_minor": 0
      },
      "text/plain": [
       "Batches:   0%|          | 0/3 [00:00<?, ?it/s]"
      ]
     },
     "metadata": {},
     "output_type": "display_data"
    }
   ],
   "source": [
    "from sentence_transformers import SentenceTransformer\n",
    "\n",
    "# Initialize the pre-trained model for generating embeddings (e.g., Sentence-BERT)\n",
    "model = SentenceTransformer('all-MiniLM-L6-v2')\n",
    "\n",
    "# Generate embeddings for course titles/descriptions\n",
    "course_embeddings = model.encode(df_clean['course_title'].tolist(), show_progress_bar=True)\n",
    "\n",
    "# Add embeddings back to the dataframe\n",
    "df_clean['embeddings'] = course_embeddings.tolist()\n"
   ]
  },
  {
   "cell_type": "code",
   "execution_count": 5,
   "metadata": {},
   "outputs": [
    {
     "data": {
      "application/vnd.jupyter.widget-view+json": {
       "model_id": "c1fc6f665324458c85b6fafb8ef03529",
       "version_major": 2,
       "version_minor": 0
      },
      "text/plain": [
       "Batches:   0%|          | 0/3 [00:00<?, ?it/s]"
      ]
     },
     "metadata": {},
     "output_type": "display_data"
    },
    {
     "data": {
      "text/html": [
       "<div>\n",
       "<style scoped>\n",
       "    .dataframe tbody tr th:only-of-type {\n",
       "        vertical-align: middle;\n",
       "    }\n",
       "\n",
       "    .dataframe tbody tr th {\n",
       "        vertical-align: top;\n",
       "    }\n",
       "\n",
       "    .dataframe thead th {\n",
       "        text-align: right;\n",
       "    }\n",
       "</style>\n",
       "<table border=\"1\" class=\"dataframe\">\n",
       "  <thead>\n",
       "    <tr style=\"text-align: right;\">\n",
       "      <th></th>\n",
       "      <th>course_link</th>\n",
       "      <th>course_title</th>\n",
       "      <th>lessons_count</th>\n",
       "      <th>price</th>\n",
       "      <th>embeddings</th>\n",
       "    </tr>\n",
       "  </thead>\n",
       "  <tbody>\n",
       "    <tr>\n",
       "      <th>0</th>\n",
       "      <td>https://courses.analyticsvidhya.com/courses/ge...</td>\n",
       "      <td>GenAI Applied to Quantitative Finance: For Con...</td>\n",
       "      <td>5 Lessons</td>\n",
       "      <td>Free</td>\n",
       "      <td>[-0.05822283402085304, 0.053621310740709305, -...</td>\n",
       "    </tr>\n",
       "    <tr>\n",
       "      <th>1</th>\n",
       "      <td>https://courses.analyticsvidhya.com/courses/na...</td>\n",
       "      <td>Navigating LLM Tradeoffs: Techniques for Speed...</td>\n",
       "      <td>6 Lessons</td>\n",
       "      <td>Free</td>\n",
       "      <td>[0.07394049316644669, -0.05113427713513374, -0...</td>\n",
       "    </tr>\n",
       "    <tr>\n",
       "      <th>2</th>\n",
       "      <td>https://courses.analyticsvidhya.com/courses/cr...</td>\n",
       "      <td>Creating Problem-Solving Agents using GenAI fo...</td>\n",
       "      <td>6 Lessons</td>\n",
       "      <td>Free</td>\n",
       "      <td>[-0.06169634684920311, -0.015118584036827087, ...</td>\n",
       "    </tr>\n",
       "    <tr>\n",
       "      <th>3</th>\n",
       "      <td>https://courses.analyticsvidhya.com/courses/im...</td>\n",
       "      <td>Improving Real World RAG Systems: Key Challeng...</td>\n",
       "      <td>12 Lessons</td>\n",
       "      <td>Free</td>\n",
       "      <td>[-0.07903501391410828, 0.0515003576874733, 0.0...</td>\n",
       "    </tr>\n",
       "    <tr>\n",
       "      <th>4</th>\n",
       "      <td>https://courses.analyticsvidhya.com/courses/ch...</td>\n",
       "      <td>Framework to Choose the Right LLM for your Bus...</td>\n",
       "      <td>6 Lessons</td>\n",
       "      <td>Free</td>\n",
       "      <td>[0.061196036636829376, -0.04366641491651535, -...</td>\n",
       "    </tr>\n",
       "  </tbody>\n",
       "</table>\n",
       "</div>"
      ],
      "text/plain": [
       "                                         course_link  \\\n",
       "0  https://courses.analyticsvidhya.com/courses/ge...   \n",
       "1  https://courses.analyticsvidhya.com/courses/na...   \n",
       "2  https://courses.analyticsvidhya.com/courses/cr...   \n",
       "3  https://courses.analyticsvidhya.com/courses/im...   \n",
       "4  https://courses.analyticsvidhya.com/courses/ch...   \n",
       "\n",
       "                                        course_title lessons_count price  \\\n",
       "0  GenAI Applied to Quantitative Finance: For Con...     5 Lessons  Free   \n",
       "1  Navigating LLM Tradeoffs: Techniques for Speed...     6 Lessons  Free   \n",
       "2  Creating Problem-Solving Agents using GenAI fo...     6 Lessons  Free   \n",
       "3  Improving Real World RAG Systems: Key Challeng...    12 Lessons  Free   \n",
       "4  Framework to Choose the Right LLM for your Bus...     6 Lessons  Free   \n",
       "\n",
       "                                          embeddings  \n",
       "0  [-0.05822283402085304, 0.053621310740709305, -...  \n",
       "1  [0.07394049316644669, -0.05113427713513374, -0...  \n",
       "2  [-0.06169634684920311, -0.015118584036827087, ...  \n",
       "3  [-0.07903501391410828, 0.0515003576874733, 0.0...  \n",
       "4  [0.061196036636829376, -0.04366641491651535, -...  "
      ]
     },
     "execution_count": 5,
     "metadata": {},
     "output_type": "execute_result"
    }
   ],
   "source": [
    "from sentence_transformers import SentenceTransformer\n",
    "\n",
    "# Initialize the pre-trained model for generating embeddings (using a model like Sentence-BERT)\n",
    "model = SentenceTransformer('all-MiniLM-L6-v2')\n",
    "\n",
    "# Generate embeddings for the course titles and descriptions\n",
    "course_embeddings = model.encode(df_clean['course_title'].tolist(), show_progress_bar=True)\n",
    "\n",
    "# Save the embeddings and the cleaned data for further use\n",
    "df_clean['embeddings'] = course_embeddings.tolist()\n",
    "\n",
    "# Display the cleaned dataset with embeddings\n",
    "df_clean.head()\n"
   ]
  },
  {
   "cell_type": "code",
   "execution_count": 6,
   "metadata": {},
   "outputs": [],
   "source": [
    "df_clean.to_csv('cleaned_courses.csv', index=False)\n"
   ]
  },
  {
   "cell_type": "code",
   "execution_count": 7,
   "metadata": {},
   "outputs": [
    {
     "name": "stdout",
     "output_type": "stream",
     "text": [
      "* Running on local URL:  http://127.0.0.1:7860\n",
      "* Running on public URL: https://05d3a2a2e12f64e344.gradio.live\n",
      "\n",
      "This share link expires in 72 hours. For free permanent hosting and GPU upgrades, run `gradio deploy` from the terminal in the working directory to deploy to Hugging Face Spaces (https://huggingface.co/spaces)\n"
     ]
    },
    {
     "data": {
      "text/html": [
       "<div><iframe src=\"https://05d3a2a2e12f64e344.gradio.live\" width=\"100%\" height=\"500\" allow=\"autoplay; camera; microphone; clipboard-read; clipboard-write;\" frameborder=\"0\" allowfullscreen></iframe></div>"
      ],
      "text/plain": [
       "<IPython.core.display.HTML object>"
      ]
     },
     "metadata": {},
     "output_type": "display_data"
    },
    {
     "data": {
      "text/plain": []
     },
     "execution_count": 7,
     "metadata": {},
     "output_type": "execute_result"
    }
   ],
   "source": [
    "import gradio as gr\n",
    "import numpy as np\n",
    "from sentence_transformers import SentenceTransformer\n",
    "from sklearn.metrics.pairwise import cosine_similarity\n",
    "import pandas as pd\n",
    "\n",
    "# Load the cleaned data with embeddings\n",
    "df_clean = pd.read_csv('cleaned_courses.csv')  # Assuming you save the cleaned data\n",
    "df_clean['embeddings'] = df_clean['embeddings'].apply(eval)  # Convert from string to list\n",
    "\n",
    "# Load the same model used to generate embeddings\n",
    "model = SentenceTransformer('all-MiniLM-L6-v2')\n",
    "\n",
    "# Function to search for the most relevant courses\n",
    "def search_courses(query):\n",
    "    query_embedding = model.encode([query])[0]\n",
    "    \n",
    "    # Compute cosine similarity between query and course embeddings\n",
    "    similarities = cosine_similarity([query_embedding], df_clean['embeddings'].tolist())[0]\n",
    "    \n",
    "    # Sort results based on similarity score\n",
    "    df_clean['similarity'] = similarities\n",
    "    top_courses = df_clean.sort_values(by='similarity', ascending=False).head(5)\n",
    "    \n",
    "    # Format the results\n",
    "    results = []\n",
    "    for _, row in top_courses.iterrows():\n",
    "        course_info = f\"**Title**: {row['course_title']}\\n**Link**: {row['course_link']}\\n**Lessons**: {row['lessons_count']}\\n**Price**: {row['price']}\\n\"\n",
    "        results.append(course_info)\n",
    "    \n",
    "    return \"\\n\\n\".join(results)\n",
    "\n",
    "# Create the Gradio interface\n",
    "# Create the Gradio interface\n",
    "iface = gr.Interface(fn=search_courses, \n",
    "                     inputs=\"text\", \n",
    "                     outputs=\"markdown\",\n",
    "                     title=\"Smart Course Search Tool\",\n",
    "                     description=\"Enter your query to search for relevant courses\")\n",
    "\n",
    "# Launch the interface with share=True to create a public link\n",
    "iface.launch(share=True)\n"
   ]
  },
  {
   "cell_type": "code",
   "execution_count": 8,
   "metadata": {},
   "outputs": [
    {
     "name": "stdout",
     "output_type": "stream",
     "text": [
      "Requirement already satisfied: gradio in c:\\users\\abhishek\\anaconda3\\lib\\site-packages (5.3.0)Note: you may need to restart the kernel to use updated packages.\n",
      "\n",
      "Requirement already satisfied: aiofiles<24.0,>=22.0 in c:\\users\\abhishek\\anaconda3\\lib\\site-packages (from gradio) (22.1.0)\n",
      "Requirement already satisfied: anyio<5.0,>=3.0 in c:\\users\\abhishek\\anaconda3\\lib\\site-packages (from gradio) (3.5.0)\n",
      "Requirement already satisfied: fastapi<1.0,>=0.115.2 in c:\\users\\abhishek\\anaconda3\\lib\\site-packages (from gradio) (0.115.3)\n",
      "Requirement already satisfied: ffmpy in c:\\users\\abhishek\\anaconda3\\lib\\site-packages (from gradio) (0.4.0)\n",
      "Requirement already satisfied: gradio-client==1.4.2 in c:\\users\\abhishek\\anaconda3\\lib\\site-packages (from gradio) (1.4.2)\n",
      "Requirement already satisfied: httpx>=0.24.1 in c:\\users\\abhishek\\anaconda3\\lib\\site-packages (from gradio) (0.26.0)\n",
      "Requirement already satisfied: huggingface-hub>=0.25.1 in c:\\users\\abhishek\\anaconda3\\lib\\site-packages (from gradio) (0.26.0)\n",
      "Requirement already satisfied: jinja2<4.0 in c:\\users\\abhishek\\anaconda3\\lib\\site-packages (from gradio) (3.1.2)\n",
      "Requirement already satisfied: markupsafe~=2.0 in c:\\users\\abhishek\\anaconda3\\lib\\site-packages (from gradio) (2.1.1)\n",
      "Requirement already satisfied: numpy<3.0,>=1.0 in c:\\users\\abhishek\\anaconda3\\lib\\site-packages (from gradio) (1.24.3)\n",
      "Requirement already satisfied: orjson~=3.0 in c:\\users\\abhishek\\anaconda3\\lib\\site-packages (from gradio) (3.10.10)\n",
      "Requirement already satisfied: packaging in c:\\users\\abhishek\\anaconda3\\lib\\site-packages (from gradio) (23.0)\n",
      "Requirement already satisfied: pandas<3.0,>=1.0 in c:\\users\\abhishek\\anaconda3\\lib\\site-packages (from gradio) (1.5.3)\n",
      "Requirement already satisfied: pillow<11.0,>=8.0 in c:\\users\\abhishek\\anaconda3\\lib\\site-packages (from gradio) (9.4.0)\n",
      "Requirement already satisfied: pydantic>=2.0 in c:\\users\\abhishek\\anaconda3\\lib\\site-packages (from gradio) (2.5.3)\n",
      "Requirement already satisfied: pydub in c:\\users\\abhishek\\anaconda3\\lib\\site-packages (from gradio) (0.25.1)\n",
      "Requirement already satisfied: python-multipart>=0.0.9 in c:\\users\\abhishek\\anaconda3\\lib\\site-packages (from gradio) (0.0.12)\n",
      "Requirement already satisfied: pyyaml<7.0,>=5.0 in c:\\users\\abhishek\\anaconda3\\lib\\site-packages (from gradio) (6.0)\n",
      "Requirement already satisfied: ruff>=0.2.2 in c:\\users\\abhishek\\anaconda3\\lib\\site-packages (from gradio) (0.7.0)\n",
      "Requirement already satisfied: semantic-version~=2.0 in c:\\users\\abhishek\\anaconda3\\lib\\site-packages (from gradio) (2.10.0)\n",
      "Requirement already satisfied: starlette<1.0,>=0.40.0 in c:\\users\\abhishek\\anaconda3\\lib\\site-packages (from gradio) (0.41.0)\n",
      "Requirement already satisfied: tomlkit==0.12.0 in c:\\users\\abhishek\\anaconda3\\lib\\site-packages (from gradio) (0.12.0)\n",
      "Requirement already satisfied: typer<1.0,>=0.12 in c:\\users\\abhishek\\anaconda3\\lib\\site-packages (from gradio) (0.12.5)\n",
      "Requirement already satisfied: typing-extensions~=4.0 in c:\\users\\abhishek\\anaconda3\\lib\\site-packages (from gradio) (4.12.2)\n",
      "Requirement already satisfied: uvicorn>=0.14.0 in c:\\users\\abhishek\\anaconda3\\lib\\site-packages (from gradio) (0.32.0)\n",
      "Requirement already satisfied: fsspec in c:\\users\\abhishek\\anaconda3\\lib\\site-packages (from gradio-client==1.4.2->gradio) (2024.10.0)\n",
      "Requirement already satisfied: websockets<13.0,>=10.0 in c:\\users\\abhishek\\anaconda3\\lib\\site-packages (from gradio-client==1.4.2->gradio) (12.0)\n",
      "Requirement already satisfied: idna>=2.8 in c:\\users\\abhishek\\anaconda3\\lib\\site-packages (from anyio<5.0,>=3.0->gradio) (3.4)\n",
      "Requirement already satisfied: sniffio>=1.1 in c:\\users\\abhishek\\anaconda3\\lib\\site-packages (from anyio<5.0,>=3.0->gradio) (1.3.1)\n",
      "Requirement already satisfied: certifi in c:\\users\\abhishek\\anaconda3\\lib\\site-packages (from httpx>=0.24.1->gradio) (2024.6.2)\n",
      "Requirement already satisfied: httpcore==1.* in c:\\users\\abhishek\\anaconda3\\lib\\site-packages (from httpx>=0.24.1->gradio) (1.0.2)\n",
      "Requirement already satisfied: h11<0.15,>=0.13 in c:\\users\\abhishek\\anaconda3\\lib\\site-packages (from httpcore==1.*->httpx>=0.24.1->gradio) (0.14.0)\n",
      "Requirement already satisfied: filelock in c:\\users\\abhishek\\anaconda3\\lib\\site-packages (from huggingface-hub>=0.25.1->gradio) (3.9.0)\n",
      "Requirement already satisfied: requests in c:\\users\\abhishek\\anaconda3\\lib\\site-packages (from huggingface-hub>=0.25.1->gradio) (2.29.0)\n",
      "Requirement already satisfied: tqdm>=4.42.1 in c:\\users\\abhishek\\anaconda3\\lib\\site-packages (from huggingface-hub>=0.25.1->gradio) (4.65.0)\n",
      "Requirement already satisfied: python-dateutil>=2.8.1 in c:\\users\\abhishek\\anaconda3\\lib\\site-packages (from pandas<3.0,>=1.0->gradio) (2.8.2)\n",
      "Requirement already satisfied: pytz>=2020.1 in c:\\users\\abhishek\\anaconda3\\lib\\site-packages (from pandas<3.0,>=1.0->gradio) (2022.7)\n",
      "Requirement already satisfied: annotated-types>=0.4.0 in c:\\users\\abhishek\\anaconda3\\lib\\site-packages (from pydantic>=2.0->gradio) (0.6.0)\n",
      "Requirement already satisfied: pydantic-core==2.14.6 in c:\\users\\abhishek\\anaconda3\\lib\\site-packages (from pydantic>=2.0->gradio) (2.14.6)\n",
      "Requirement already satisfied: click>=8.0.0 in c:\\users\\abhishek\\anaconda3\\lib\\site-packages (from typer<1.0,>=0.12->gradio) (8.0.4)\n",
      "Requirement already satisfied: shellingham>=1.3.0 in c:\\users\\abhishek\\anaconda3\\lib\\site-packages (from typer<1.0,>=0.12->gradio) (1.5.4)\n",
      "Requirement already satisfied: rich>=10.11.0 in c:\\users\\abhishek\\anaconda3\\lib\\site-packages (from typer<1.0,>=0.12->gradio) (13.7.1)\n",
      "Requirement already satisfied: colorama in c:\\users\\abhishek\\anaconda3\\lib\\site-packages (from click>=8.0.0->typer<1.0,>=0.12->gradio) (0.4.6)\n",
      "Requirement already satisfied: six>=1.5 in c:\\users\\abhishek\\anaconda3\\lib\\site-packages (from python-dateutil>=2.8.1->pandas<3.0,>=1.0->gradio) (1.16.0)\n",
      "Requirement already satisfied: markdown-it-py>=2.2.0 in c:\\users\\abhishek\\anaconda3\\lib\\site-packages (from rich>=10.11.0->typer<1.0,>=0.12->gradio) (2.2.0)\n",
      "Requirement already satisfied: pygments<3.0.0,>=2.13.0 in c:\\users\\abhishek\\anaconda3\\lib\\site-packages (from rich>=10.11.0->typer<1.0,>=0.12->gradio) (2.15.1)\n",
      "Requirement already satisfied: charset-normalizer<4,>=2 in c:\\users\\abhishek\\anaconda3\\lib\\site-packages (from requests->huggingface-hub>=0.25.1->gradio) (2.0.4)\n",
      "Requirement already satisfied: urllib3<1.27,>=1.21.1 in c:\\users\\abhishek\\anaconda3\\lib\\site-packages (from requests->huggingface-hub>=0.25.1->gradio) (1.26.16)\n",
      "Requirement already satisfied: mdurl~=0.1 in c:\\users\\abhishek\\anaconda3\\lib\\site-packages (from markdown-it-py>=2.2.0->rich>=10.11.0->typer<1.0,>=0.12->gradio) (0.1.0)\n"
     ]
    }
   ],
   "source": [
    "pip install gradio\n"
   ]
  },
  {
   "cell_type": "code",
   "execution_count": 9,
   "metadata": {},
   "outputs": [
    {
     "data": {
      "text/plain": [
       "'Improving Real World RAG Systems: Key Challenges & Practical Solutions'"
      ]
     },
     "execution_count": 9,
     "metadata": {},
     "output_type": "execute_result"
    }
   ],
   "source": [
    "df['course-card__body 2'][3]"
   ]
  },
  {
   "cell_type": "code",
   "execution_count": null,
   "metadata": {},
   "outputs": [],
   "source": []
  },
  {
   "cell_type": "code",
   "execution_count": null,
   "metadata": {},
   "outputs": [],
   "source": []
  },
  {
   "cell_type": "code",
   "execution_count": null,
   "metadata": {},
   "outputs": [],
   "source": []
  }
 ],
 "metadata": {
  "kernelspec": {
   "display_name": "base",
   "language": "python",
   "name": "python3"
  },
  "language_info": {
   "codemirror_mode": {
    "name": "ipython",
    "version": 3
   },
   "file_extension": ".py",
   "mimetype": "text/x-python",
   "name": "python",
   "nbconvert_exporter": "python",
   "pygments_lexer": "ipython3",
   "version": "3.11.3"
  }
 },
 "nbformat": 4,
 "nbformat_minor": 2
}
